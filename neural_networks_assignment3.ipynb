{
  "nbformat": 4,
  "nbformat_minor": 0,
  "metadata": {
    "colab": {
      "provenance": []
    },
    "kernelspec": {
      "name": "python3",
      "display_name": "Python 3"
    },
    "language_info": {
      "name": "python"
    }
  },
  "cells": [
    {
      "cell_type": "code",
      "execution_count": 2,
      "metadata": {
        "colab": {
          "base_uri": "https://localhost:8080/"
        },
        "id": "jYPI8sv_g_40",
        "outputId": "3bc3366a-6158-463f-803b-e1140625f8c8"
      },
      "outputs": [
        {
          "output_type": "stream",
          "name": "stdout",
          "text": [
            "Employee 1: \n",
            "Enter name: dheeraj\n",
            "Family Members: 4\n",
            "Employee Salary: 5699\n",
            "Employee Department: cs\n",
            "Employee 2: \n",
            "Enter name: annam\n",
            "Family Members: 5\n",
            "Employee Salary: 6999\n",
            "Employee Department: it\n",
            "Full Time Employee 1: \n",
            "Enter name: sai\n",
            "Family Members: 5\n",
            "Employee Salary: 7999\n",
            "Employee Department: cis\n",
            "\n",
            "Number of employees:  3\n",
            "Avg salary is : 6349.0\n"
          ]
        }
      ],
      "source": [
        "class Employee:\n",
        "    numberOfEmployees = 0\n",
        "\n",
        "    def __init__(self, name, family, salary, department):\n",
        "        self.name = name\n",
        "        self.family = family\n",
        "        self.salary = salary\n",
        "        self.department = department\n",
        "        Employee.numberOfEmployees+=1\n",
        "\n",
        "\n",
        "def averagesalary(employee):\n",
        "    total = sum(e.salary for e in employee)\n",
        "    average = total / len(employee)\n",
        "    return average\n",
        "\n",
        "class FulltimeEmployee(Employee):\n",
        "    def __init__(self, name, family, salary, department):\n",
        "        Employee.__init__(self,name, family, salary, department)\n",
        "\n",
        "print(\"Employee 1: \")\n",
        "employee1 = Employee(input(\"Enter name: \"),input(\"Family Members: \"),int(input(\"Employee Salary: \")),input(\"Employee Department: \"))\n",
        "print(\"Employee 2: \")\n",
        "employee2 = Employee(input(\"Enter name: \"),input(\"Family Members: \"),int(input(\"Employee Salary: \")),input(\"Employee Department: \"))\n",
        "print(\"Full Time Employee 1: \")\n",
        "employee3 = FulltimeEmployee(input(\"Enter name: \"),input(\"Family Members: \"),int(input(\"Employee Salary: \")),input(\"Employee Department: \"))\n",
        "print(\"\")\n",
        "print(\"Number of employees: \",Employee.numberOfEmployees)\n",
        "listofEmployees = [employee1, employee2]\n",
        "avgsalary = averagesalary(listofEmployees)\n",
        "print(\"Avg salary is :\", avgsalary)"
      ]
    },
    {
      "cell_type": "code",
      "source": [
        "import numpy\n",
        "\n",
        "random_vector = numpy.random.uniform(1, 20, 20)\n",
        "print(random_vector)\n",
        "print(\"\")\n",
        "print(\"\")\n",
        "reshaped_array = random_vector.reshape(4, 5)\n",
        "print(\"\")\n",
        "print(\"\")\n",
        "print(reshaped_array)\n",
        "reshaped_array[numpy.arange(4), numpy.argmax(reshaped_array, axis=1)] = 0\n",
        "print(\"\")\n",
        "print(\"\")\n",
        "print(reshaped_array)"
      ],
      "metadata": {
        "colab": {
          "base_uri": "https://localhost:8080/"
        },
        "id": "NDzcLbF5i2v8",
        "outputId": "47cc43f0-5393-4b21-e453-72518dd5e3ba"
      },
      "execution_count": 3,
      "outputs": [
        {
          "output_type": "stream",
          "name": "stdout",
          "text": [
            "[ 3.78937755  9.08469998  4.46384001 18.45640856 19.55369784  5.01445077\n",
            "  2.09845478 16.36590218  8.10597527  1.60929073  3.24777342  4.13946681\n",
            " 14.8987842   8.43426549 18.07094882 10.79138755  7.99557646  4.3467301\n",
            "  6.9515914   4.9740878 ]\n",
            "\n",
            "\n",
            "\n",
            "\n",
            "[[ 3.78937755  9.08469998  4.46384001 18.45640856 19.55369784]\n",
            " [ 5.01445077  2.09845478 16.36590218  8.10597527  1.60929073]\n",
            " [ 3.24777342  4.13946681 14.8987842   8.43426549 18.07094882]\n",
            " [10.79138755  7.99557646  4.3467301   6.9515914   4.9740878 ]]\n",
            "\n",
            "\n",
            "[[ 3.78937755  9.08469998  4.46384001 18.45640856  0.        ]\n",
            " [ 5.01445077  2.09845478  0.          8.10597527  1.60929073]\n",
            " [ 3.24777342  4.13946681 14.8987842   8.43426549  0.        ]\n",
            " [ 0.          7.99557646  4.3467301   6.9515914   4.9740878 ]]\n"
          ]
        }
      ]
    }
  ]
}